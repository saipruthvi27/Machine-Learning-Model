{
 "cells": [
  {
   "cell_type": "markdown",
   "metadata": {},
   "source": [
    "<hr style=\"height:.9px;border:none;color:#333;background-color:#333;\" />\n",
    "<hr style=\"height:.9px;border:none;color:#333;background-color:#333;\" />\n",
    "\n",
    "<br><h2>Analysis Report to Management (Individual Assignment)</h2>\n",
    "***\n",
    "DAT-5303 | Machine Learning<br>\n",
    "<strong>Sai Pruthvi Konduru Venkata</strong><br> Student of Business Analytics<br>\n",
    "Hult International Business School<br>\n",
    "\n",
    "<hr style=\"height:.9px;border:none;color:#333;background-color:#333;\" />\n",
    "\n",
    "<br><br>\n",
    "<h2>Purpose of this Script</h2><br>\n",
    "Develop a consolidated report containing top actionable insights from the case as well as the final revenue and cross-sell promotion models. This script is designed to achieve the objective of this assignment. It utilizes the Apprentice_Chef_Dataset."
   ]
  },
  {
   "cell_type": "markdown",
   "metadata": {},
   "source": [
    "<hr style=\"height:.9px;border:none;color:#333;background-color:#333;\" /><br>\n",
    "\n",
    "<h2>Analysis Report</h2><br>"
   ]
  },
  {
   "cell_type": "markdown",
   "metadata": {},
   "source": [
    "<strong>Apprentice Chef, Inc.</strong><br>\n",
    "\n",
    "Apprentice Chef is developed for those busy professionals that have little to no skills in the kitchen. They offer a wide selection of daily-prepared gourmet meals that are delivered directly to the customer. Apprentice Chef has been serving busy customers across the San Francisco Bay Area from the past three years. The executives wanted to recognize how much revenue to expect from each customer within their first year of orders. To diversify their revenue stream, they have launched Halfway There, a cross-selling promotion where subscribers receive a half bottle of wine from a local California vineyard every Wednesday. The firm is concerned to know which customers will subscribe to this service (Kusterer, 2021). <br>\n"
   ]
  },
  {
   "cell_type": "markdown",
   "metadata": {},
   "source": [
    "<hr style=\"height:.9px;border:none;color:#333;background-color:#333;\" /><br>\n",
    "\n",
    "<h2>Insights related to revenue</h2><br>\n",
    "    * The highest total number of meals ordered by a customer is 493, and the highest number of unique meals ordered is only 19. The correlation matrix of unique meals ordered is -0.06. The correlation means that even if we have high revenue generated, it does not come from unique meals but regular meals. We must try and improve the culinary menu of unique meals to influence the customer to eat something different and unique at least once a week. This increase in ordering unique meals would help grow revenue, as unique meals are expensive than regular meals.<br><br>\n",
    "    * Most customers order from a browser on desktops or personal computers rather than an application on the mobile phone. The correlation matrix of mobile logins is -0.02, which means that the customers prefer using our website's desktop user interface than that of a mobile application while placing an order. So, we have to design our mobile app to offer better personalization and perform actions much quicker than the website. There were times when push notifications have delivered click-through rates of up to 40%, which is exceptionally high for the marketing department. With the ease of sending notifications, we can get even closer to customers by sending one-tap orders and special promo advertisements (Deshdeep, 2020).<\n"
   ]
  },
  {
   "cell_type": "markdown",
   "metadata": {},
   "source": [
    "<hr style=\"height:.9px;border:none;color:#333;background-color:#333;\" /><br>\n",
    "\n",
    "<h2>Insights related to cross-sell promotion</h2><br>\n",
    "    - Professional customers are more likely to subscribe to the cross-selling promotion than the other email groups. These customers enjoy their meal with wine in a sophisticated manner, even halfway through the workweek. The correlation matrix of customers ordering food through professional emails for subscribing to the cross-sell promotion is 0.19.<br><br>\n",
    "    - The junk email group customers have the highest negative correlation of -0.28. Offering these customers special discounts and promo codes is the right way of generating revenue. Giving special price for subscribing to our promotion would help grow customers in the junk email group.<br><br>\n",
    "    - Customers who have mentioned their tastes and preferences in their profile have higher probable chances of subscribing to the promotion. Adding tastes and preferences into their profile is optional to the customer. The company must make this feature mandatory and gather information about each customer's taste and food preferences. The company can use this information to provide suggestions to the customers about which wine best suits their taste. By doing so, customers would get encouraged into subscribing to our promotion.<br>"
   ]
  },
  {
   "cell_type": "markdown",
   "metadata": {},
   "source": [
    "<hr style=\"height:.9px;border:none;color:#333;background-color:#333;\" /><br>\n",
    "\n",
    "<h2>Model Performance</h2><br>\n",
    "    1) The highest R-square value constructed on the revenue model is 0.819 obtained from OLS Regression.<br>\n",
    "    2) The tuned random forest model predicting the cross-sell promotion has the highest AUC score of 0.774.<br>"
   ]
  },
  {
   "cell_type": "markdown",
   "metadata": {},
   "source": [
    "<hr style=\"height:.9px;border:none;color:#333;background-color:#333;\" /><br>\n",
    "\n",
    "<h2>Conclusion</h2><br>\n",
    "Increasing the duration of meal preparation instructions and growing the median rating of meals by each customer would certainly preserve customers. Growing the customer base and satisfying existing customers is essential and is one of the biggest challenges in growing revenue. Halfway There promotion is an excellent effort by the firm to diversify its revenue stream. The customers ordering food from junk emails are least interested in subscribing to the promotion. Luring junk email users in the form of occasional discounts and special promos would drive them towards subscribing to our promotion.<br><br>"
   ]
  },
  {
   "cell_type": "code",
   "execution_count": 1,
   "metadata": {},
   "outputs": [],
   "source": [
    "# importing libraries\n",
    "import pandas as pd                      # data science essentials\n",
    "import matplotlib.pyplot as plt          # data visualization\n",
    "import seaborn as sns                    # enhanced graphical output\n",
    "\n",
    "# setting pandas print options\n",
    "pd.set_option('display.max_rows', 500)\n",
    "pd.set_option('display.max_columns', 500)\n",
    "pd.set_option('display.width', 1000)\n",
    "\n",
    "# specifying file name\n",
    "file = 'Apprentice_Chef_Dataset.xlsx'\n",
    "\n",
    "# reading the file into Python\n",
    "chef = pd.read_excel(file)"
   ]
  },
  {
   "cell_type": "code",
   "execution_count": 2,
   "metadata": {
    "cell_style": "split"
   },
   "outputs": [
    {
     "data": {
      "text/plain": [
       "REVENUE                        1.00\n",
       "AVG_PREP_VID_TIME              0.64\n",
       "MEDIAN_MEAL_RATING             0.61\n",
       "TOTAL_MEALS_ORDERED            0.60\n",
       "TOTAL_PHOTOS_VIEWED            0.47\n",
       "MASTER_CLASSES_ATTENDED        0.45\n",
       "LARGEST_ORDER_SIZE             0.44\n",
       "AVG_TIME_PER_SITE_VISIT        0.14\n",
       "CONTACTS_W_CUSTOMER_SERVICE    0.10\n",
       "MOBILE_NUMBER                  0.03\n",
       "PRODUCT_CATEGORIES_VIEWED      0.03\n",
       "PC_LOGINS                      0.02\n",
       "TASTES_AND_PREFERENCES         0.01\n",
       "CANCELLATIONS_BEFORE_NOON      0.01\n",
       "WEEKLY_PLAN                    0.01\n",
       "REFRIGERATED_LOCKER           -0.00\n",
       "EARLY_DELIVERIES              -0.00\n",
       "CROSS_SELL_SUCCESS             0.00\n",
       "LATE_DELIVERIES               -0.01\n",
       "PACKAGE_LOCKER                -0.01\n",
       "MOBILE_LOGINS                 -0.02\n",
       "CANCELLATIONS_AFTER_NOON      -0.04\n",
       "UNIQUE_MEALS_PURCH            -0.06\n",
       "AVG_CLICKS_PER_VISIT          -0.55\n",
       "Name: REVENUE, dtype: float64"
      ]
     },
     "execution_count": 2,
     "metadata": {},
     "output_type": "execute_result"
    }
   ],
   "source": [
    "df_corr = chef.corr().round(2)\n",
    "df_corr['REVENUE'].sort_values(ascending = False)"
   ]
  },
  {
   "cell_type": "code",
   "execution_count": 3,
   "metadata": {
    "cell_style": "split"
   },
   "outputs": [
    {
     "data": {
      "text/plain": [
       "CROSS_SELL_SUCCESS             1.00\n",
       "CANCELLATIONS_BEFORE_NOON      0.16\n",
       "MOBILE_NUMBER                  0.10\n",
       "TASTES_AND_PREFERENCES         0.08\n",
       "REFRIGERATED_LOCKER            0.07\n",
       "PC_LOGINS                      0.04\n",
       "MASTER_CLASSES_ATTENDED        0.04\n",
       "PACKAGE_LOCKER                 0.04\n",
       "CONTACTS_W_CUSTOMER_SERVICE    0.04\n",
       "MEDIAN_MEAL_RATING             0.03\n",
       "AVG_PREP_VID_TIME              0.03\n",
       "LARGEST_ORDER_SIZE             0.02\n",
       "EARLY_DELIVERIES               0.02\n",
       "TOTAL_MEALS_ORDERED            0.01\n",
       "AVG_TIME_PER_SITE_VISIT        0.01\n",
       "TOTAL_PHOTOS_VIEWED            0.01\n",
       "LATE_DELIVERIES                0.01\n",
       "PRODUCT_CATEGORIES_VIEWED      0.00\n",
       "UNIQUE_MEALS_PURCH             0.00\n",
       "REVENUE                        0.00\n",
       "WEEKLY_PLAN                   -0.01\n",
       "AVG_CLICKS_PER_VISIT          -0.04\n",
       "CANCELLATIONS_AFTER_NOON      -0.05\n",
       "MOBILE_LOGINS                 -0.05\n",
       "Name: CROSS_SELL_SUCCESS, dtype: float64"
      ]
     },
     "execution_count": 3,
     "metadata": {},
     "output_type": "execute_result"
    }
   ],
   "source": [
    "df_corr = chef.corr().round(2)\n",
    "df_corr['CROSS_SELL_SUCCESS'].sort_values(ascending = False)"
   ]
  },
  {
   "cell_type": "code",
   "execution_count": 4,
   "metadata": {
    "scrolled": false
   },
   "outputs": [
    {
     "data": {
      "image/png": "[encoded data removed]",
      "text/plain": [
       "<Figure size 648x432 with 1 Axes>"
      ]
     },
     "metadata": {
      "needs_background": "light"
     },
     "output_type": "display_data"
    }
   ],
   "source": [
    "# setting figure size\n",
    "fig, ax = plt.subplots(figsize = (9, 6))\n",
    "\n",
    "# developing a scatterplot\n",
    "sns.scatterplot(x    = 'AVG_CLICKS_PER_VISIT',\n",
    "                y    = 'REVENUE',\n",
    "                data = chef)\n",
    "\n",
    "\n",
    "# titles and axis labels\n",
    "plt.title(label   = 'Scatterplot with Interval Data')\n",
    "plt.xlabel(xlabel = 'AVERAGE CLICKS PER VISIT')\n",
    "plt.ylabel(ylabel = 'REVENUE')\n",
    "\n",
    "\n",
    "# displaying the plot\n",
    "plt.show()"
   ]
  },
  {
   "cell_type": "markdown",
   "metadata": {},
   "source": [
    "<br>From the above graph, we can deduce that as the average number of clicks per visit is increasing, the revenue is decreasing. On average, customers have eight clicks every time they visit our website to place an order. The correlation matrix of average clicks per visit concerning revenue is -0.55. The correlation means that the more the customer clicks, he/she is less likely to generate higher revenue. One feasible theory can be that the customer checks out too many varieties of meals in our menu and might lose the appetite of ordering food.<br><br>"
   ]
  },
  {
   "cell_type": "markdown",
   "metadata": {},
   "source": [
    "<hr style=\"height:.9px;border:none;color:#333;background-color:#333;\" /><br>\n",
    "\n",
    "<h2>References</h2><br>\n",
    "Deshdeep, N. (2020, December 22). VWO Blog. Retrieved from   <a href = \"https://vwo.com/blog/10-reasons-mobile-apps-are-better/#:~:text=A%20well%2Ddesigned%20mobile%20app,happens%20swiftly%20in%20mobile%20apps\">Mobile App or Website? 10 Reasons Why Apps are Better!</a>\n",
    "<br><br>\n",
    "Kusterer, C. (2021). Course Case: Apprentice Chef. Hult International Business School.<br><br>\n",
    "\n",
    "<hr style=\"height:.9px;border:none;color:#333;background-color:#333;\" />\n",
    "<hr style=\"height:.9px;border:none;color:#333;background-color:#333;\" /><br>"
   ]
  }
 ],
 "metadata": {
  "kernelspec": {
   "display_name": "Python 3",
   "language": "python",
   "name": "python3"
  },
  "language_info": {
   "codemirror_mode": {
    "name": "ipython",
    "version": 3
   },
   "file_extension": ".py",
   "mimetype": "text/x-python",
   "name": "python",
   "nbconvert_exporter": "python",
   "pygments_lexer": "ipython3",
   "version": "3.8.3"
  },
  "toc": {
   "base_numbering": 1,
   "nav_menu": {},
   "number_sections": true,
   "sideBar": true,
   "skip_h1_title": false,
   "title_cell": "Table of Contents",
   "title_sidebar": "Contents",
   "toc_cell": false,
   "toc_position": {},
   "toc_section_display": true,
   "toc_window_display": false
  },
  "varInspector": {
   "cols": {
    "lenName": 16,
    "lenType": 16,
    "lenVar": 40
   },
   "kernels_config": {
    "python": {
     "delete_cmd_postfix": "",
     "delete_cmd_prefix": "del ",
     "library": "var_list.py",
     "varRefreshCmd": "print(var_dic_list())"
    },
    "r": {
     "delete_cmd_postfix": ") ",
     "delete_cmd_prefix": "rm(",
     "library": "var_list.r",
     "varRefreshCmd": "cat(var_dic_list()) "
    }
   },
   "types_to_exclude": [
    "module",
    "function",
    "builtin_function_or_method",
    "instance",
    "_Feature"
   ],
   "window_display": false
  }
 },
 "nbformat": 4,
 "nbformat_minor": 4
}
